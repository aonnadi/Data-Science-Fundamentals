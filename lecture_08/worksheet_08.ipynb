{
 "cells": [
  {
   "attachments": {},
   "cell_type": "markdown",
   "metadata": {},
   "source": [
    "# Worksheet 08\n",
    "\n",
    "Name:  Anulika Nnadi\n",
    "UID: U14535525\n",
    "\n",
    "### Topics\n",
    "\n",
    "- Soft Clustering\n",
    "- Clustering Aggregation\n",
    "\n",
    "### Probability Review\n",
    "\n",
    "Read through [the following](https://medium.com/@gallettilance/overview-of-probability-3272b72c82c8)\n",
    "\n",
    "### Soft Clustering\n",
    "\n",
    "We generate 10 data points that come from a normal distribution with mean 5 and variance 1."
   ]
  },
  {
   "cell_type": "code",
   "execution_count": 1,
   "metadata": {},
   "outputs": [
    {
     "name": "stdout",
     "output_type": "stream",
     "text": [
      "[3.180150416280122, 4.925485959777417, 4.991184942047826, 5.736517953223665, 3.664773673655696, 4.62878893734279, 3.6463364571313273, 4.898095162105041, 5.950345526466371, 5.383205606867739]\n"
     ]
    }
   ],
   "source": [
    "import random\n",
    "import numpy as np\n",
    "from sklearn.cluster import KMeans\n",
    "\n",
    "mean = 5\n",
    "stdev = 1\n",
    "\n",
    "c1 = np.random.normal(mean, stdev, 10).tolist()\n",
    "print(c1)"
   ]
  },
  {
   "cell_type": "markdown",
   "metadata": {},
   "source": [
    "a) Generate 10 more data points, this time coming from a normal distribution with mean 8 and variance 1."
   ]
  },
  {
   "cell_type": "code",
   "execution_count": 2,
   "metadata": {},
   "outputs": [
    {
     "name": "stdout",
     "output_type": "stream",
     "text": [
      "[5.012391389072955, 6.838029798832968, 5.931234702368785, 5.771241743940401, 3.6784899441867434, 4.710070611795857, 4.085951984099646, 4.200980229575611, 3.021194473161513, 6.885886317498645]\n"
     ]
    }
   ],
   "source": [
    "c2 = np.random.normal(mean, stdev, 10).tolist()\n",
    "print(c2)"
   ]
  },
  {
   "cell_type": "markdown",
   "metadata": {},
   "source": [
    "b) Flip a fair coin 10 times. If the coin lands on H, then pick the last data point of `c1` and remove it from `c1`, if T then pick the last data point from `c2` and remove it from `c2`. Add these 10 points to a list called `data`."
   ]
  },
  {
   "cell_type": "code",
   "execution_count": 3,
   "metadata": {},
   "outputs": [
    {
     "name": "stdout",
     "output_type": "stream",
     "text": [
      "[6.885886317498645, 3.021194473161513, 5.383205606867739, 5.950345526466371, 4.898095162105041, 4.200980229575611, 3.6463364571313273, 4.085951984099646, 4.710070611795857, 4.62878893734279]\n"
     ]
    }
   ],
   "source": [
    "data = []\n",
    "for i in range(10):\n",
    "    # flip coin\n",
    "    coin_output = random.choice([0, 1])\n",
    "    if coin_output == 0:\n",
    "        p1 = c1.pop()\n",
    "        data.append(p1)\n",
    "    else:\n",
    "        p2 = c2.pop()\n",
    "        data.append(p2)\n",
    "print(data)"
   ]
  },
  {
   "cell_type": "markdown",
   "metadata": {},
   "source": [
    "c) This `data` is a Gaussian Mixture Distribution with 2 mixture components. Over the next few questions we will walk through the GMM algorithm to see if we can uncover the parameters we used to generate this data. First, please list all these parameters of the GMM that created `data` and the values we know they have."
   ]
  },
  {
   "cell_type": "markdown",
   "metadata": {},
   "source": [
    "For each individual probability's mean variance And a probaility of x being i-th species Gaussian Mixture Model: when all are normal distribution with parameters:\n",
    " \n",
    " \n",
    "Start with random \n",
    "Compute \n",
    " for all Xi by using \n",
    "Compute / Update \n",
    " from \n",
    "Repeat 2 & 3 until convergence"
   ]
  },
  {
   "cell_type": "markdown",
   "metadata": {},
   "source": [
    "d) Let's assume there are two mixture components (note: we could plot the data and make the observation that there are two clusters). The EM algorithm asks us to start with a random `mean_j`, `variance_j`, `P(C_j)` for each component j. One method we could use to find sensible values for these is to apply K means with k=2 here.\n",
    "\n",
    "1. the centroids would be the estimates of the `mean_j`\n",
    "2. the intra-cluster variance could be the estimate of `variance_j`\n",
    "3. the proportion of points in each cluster could be the estimate of `P(C_j)`\n",
    "\n",
    "Go through this process and list the parameter estimates it gives. Are they close or far from the true values?"
   ]
  },
  {
   "cell_type": "code",
   "execution_count": 4,
   "metadata": {},
   "outputs": [
    {
     "name": "stdout",
     "output_type": "stream",
     "text": [
      "[3.021194473161513, 4.898095162105041, 4.200980229575611, 3.6463364571313273, 4.085951984099646, 4.710070611795857, 4.62878893734279]\n",
      "[6.885886317498645, 5.383205606867739, 5.950345526466371]\n",
      "P(C_1) = 0.7,  P(C_2) = 0.3\n",
      "mean_1 = 4.17020255074454,  mean_2 = 6.073145816944252\n",
      "var_1 = 0.37632676012465466,  var_2 = 4.005074583062587\n"
     ]
    },
    {
     "name": "stderr",
     "output_type": "stream",
     "text": [
      "/Users/aninja/Library/Python/3.9/lib/python/site-packages/sklearn/cluster/_kmeans.py:1416: FutureWarning: The default value of `n_init` will change from 10 to 'auto' in 1.4. Set the value of `n_init` explicitly to suppress the warning\n",
      "  super()._check_params_vs_input(X, default_n_init=10)\n"
     ]
    }
   ],
   "source": [
    "kmeans = KMeans(2, init='k-means++').fit(X=np.array(data).reshape(-1, 1))\n",
    "\n",
    "c1 = [x[0] for x in filter(lambda x: x[1] == 0, zip(data, kmeans.labels_))]\n",
    "print(c1)\n",
    "c2 = [x[0] for x in filter(lambda x: x[1] != 0, zip(data, kmeans.labels_))]\n",
    "print(c2)\n",
    "\n",
    "prob_c = [ len(c1) / (len(c1) + len(c2)) , len(c2) / (len(c1) + len(c2)) ]\n",
    "mean = [ sum(c1)/len(c1) , sum(c2)/len(c2)  ]\n",
    "var = [ sum(map(lambda x : (x - mean[0])**2, c1)) / len(c1) , sum(map(lambda x : (x - mean[0])**2, c2)) / len(c2) ]\n",
    "\n",
    "print(\"P(C_1) = \" + str(prob_c[0]) + \",  P(C_2) = \" + str(prob_c[1]))\n",
    "print(\"mean_1 = \" + str(mean[0]) + \",  mean_2 = \" + str(mean[1]))\n",
    "print(\"var_1 = \" + str(var[0]) + \",  var_2 = \" + str(var[1]))"
   ]
  },
  {
   "cell_type": "markdown",
   "metadata": {},
   "source": []
  },
  {
   "cell_type": "markdown",
   "metadata": {},
   "source": [
    "e) For each data point, compute `P(C_j | X_i)`. Comment on which cluster you think each point belongs to based on the estimated probabilities. How does that compare to the truth?"
   ]
  },
  {
   "cell_type": "code",
   "execution_count": 5,
   "metadata": {},
   "outputs": [
    {
     "name": "stdout",
     "output_type": "stream",
     "text": [
      "point =  6.885886317498645\n",
      "probability of observing that point if it came from cluster 0 =  5.217119108808841e-12\n",
      "probability of observing that point if it came from cluster 1 =  0.09757923561358593\n",
      "point =  3.021194473161513\n",
      "probability of observing that point if it came from cluster 0 =  0.010024584949949969\n",
      "probability of observing that point if it came from cluster 1 =  0.07450874221585102\n",
      "point =  5.383205606867739\n",
      "probability of observing that point if it came from cluster 0 =  0.005878942505718489\n",
      "probability of observing that point if it came from cluster 1 =  0.09814212352771348\n",
      "point =  5.950345526466371\n",
      "probability of observing that point if it came from cluster 0 =  1.4672043162754096e-05\n",
      "probability of observing that point if it came from cluster 1 =  0.0995623906270095\n",
      "point =  4.898095162105041\n",
      "probability of observing that point if it came from cluster 0 =  0.1632923645703668\n",
      "probability of observing that point if it came from cluster 1 =  0.09541306925476112\n",
      "point =  4.200980229575611\n",
      "probability of observing that point if it came from cluster 0 =  1.0565560280189448\n",
      "probability of observing that point if it came from cluster 1 =  0.08929991655312539\n",
      "point =  3.6463364571313273\n",
      "probability of observing that point if it came from cluster 0 =  0.4023052120366489\n",
      "probability of observing that point if it came from cluster 1 =  0.08290345716410989\n",
      "point =  4.085951984099646\n",
      "probability of observing that point if it came from cluster 0 =  1.0338592895979832\n",
      "probability of observing that point if it came from cluster 1 =  0.08807270855259258\n",
      "point =  4.710070611795857\n",
      "probability of observing that point if it came from cluster 0 =  0.3788403721384564\n",
      "probability of observing that point if it came from cluster 1 =  0.09400424064866016\n",
      "point =  4.62878893734279\n",
      "probability of observing that point if it came from cluster 0 =  0.5045357665914935\n",
      "probability of observing that point if it came from cluster 1 =  0.09333796415827919\n",
      "6.885886317498645\n",
      "Probability of coming from C_1 = Ellipsis\n",
      "Probability of coming from C_2 = Ellipsis\n",
      "\n",
      "3.021194473161513\n",
      "Probability of coming from C_1 = Ellipsis\n",
      "Probability of coming from C_2 = Ellipsis\n",
      "\n",
      "5.383205606867739\n",
      "Probability of coming from C_1 = Ellipsis\n",
      "Probability of coming from C_2 = Ellipsis\n",
      "\n",
      "5.950345526466371\n",
      "Probability of coming from C_1 = Ellipsis\n",
      "Probability of coming from C_2 = Ellipsis\n",
      "\n",
      "4.898095162105041\n",
      "Probability of coming from C_1 = Ellipsis\n",
      "Probability of coming from C_2 = Ellipsis\n",
      "\n",
      "4.200980229575611\n",
      "Probability of coming from C_1 = Ellipsis\n",
      "Probability of coming from C_2 = Ellipsis\n",
      "\n",
      "3.6463364571313273\n",
      "Probability of coming from C_1 = Ellipsis\n",
      "Probability of coming from C_2 = Ellipsis\n",
      "\n",
      "4.085951984099646\n",
      "Probability of coming from C_1 = Ellipsis\n",
      "Probability of coming from C_2 = Ellipsis\n",
      "\n",
      "4.710070611795857\n",
      "Probability of coming from C_1 = Ellipsis\n",
      "Probability of coming from C_2 = Ellipsis\n",
      "\n",
      "4.62878893734279\n",
      "Probability of coming from C_1 = Ellipsis\n",
      "Probability of coming from C_2 = Ellipsis\n",
      "\n"
     ]
    }
   ],
   "source": [
    "from scipy.stats import norm\n",
    "\n",
    "prob_c0_x = [] # P(C_0 | X_i)\n",
    "prob_c1_x = [] # P(C_1 | X_i)\n",
    "prob_x = [] # P(X_i)\n",
    "\n",
    "k = 2\n",
    "\n",
    "for p in data:\n",
    "    print(\"point = \", p)\n",
    "    pdf_i = []\n",
    "\n",
    "    for j in range(k):\n",
    "        # P(X_i | C_j)\n",
    "        pdf_i.append(norm.pdf(p, mean[j], var[j]))\n",
    "        print(\"probability of observing that point if it came from cluster \" + str(j) + \" = \", pdf_i[j])\n",
    "        # P(C_j) already computed\n",
    "        prob_c[j]\n",
    "\n",
    "    # P(X_i) = P(C_0)P(X_i | C_0) + P(C_1)P(X_i | C_1)\n",
    "    prob_x = prob_c[0] * pdf_i[0] + prob_c[1] * pdf_i[1]\n",
    "\n",
    "    # P(C_j | X_i) = P(X_i | C_j)P(C_j) / P(X_i)\n",
    "    prob_c0_x.append( ... )\n",
    "    prob_c1_x.append( ... )\n",
    "\n",
    "probs = zip(data, prob_c0_x, prob_c1_x)\n",
    "for p in probs:\n",
    "    print(p[0])\n",
    "    print(\"Probability of coming from C_1 = \" + str(p[1]))\n",
    "    print(\"Probability of coming from C_2 = \" + str(p[2]))\n",
    "    print()\n"
   ]
  },
  {
   "cell_type": "markdown",
   "metadata": {},
   "source": [
    "f) Having computed `P(C_j | X_i)`, update the estimates of `mean_j`, `var_j`, and `P(C_j)`. How different are these values from the original ones you got from K means? briefly comment."
   ]
  },
  {
   "cell_type": "code",
   "execution_count": null,
   "metadata": {},
   "outputs": [],
   "source": [
    "prob_c = [sum(prob_c0_x)/ len(prob_c0_x), ... ]\n",
    "mean = [sum([x[0] * x[1] for x in zip(prob_c0_x, data)]) / sum(prob_c0_x), ... ]\n",
    "var = [ ... , ... ]\n",
    "\n",
    "print(\"P(C_1) = \" + str(prob_c[0]) + \",  P(C_2) = \" + str(prob_c[1]))\n",
    "print(\"mean_1 = \" + str(mean[0]) + \",  mean_2 = \" + str(mean[1]))\n",
    "print(\"var_1 = \" + str(var[0]) + \",  var_2 = \" + str(var[1]))"
   ]
  },
  {
   "cell_type": "markdown",
   "metadata": {},
   "source": []
  },
  {
   "cell_type": "markdown",
   "metadata": {},
   "source": [
    "g) Update `P(C_j | X_i)`. Comment on any differences or lack thereof you observe."
   ]
  },
  {
   "cell_type": "code",
   "execution_count": 6,
   "metadata": {},
   "outputs": [
    {
     "name": "stdout",
     "output_type": "stream",
     "text": [
      "point =  6.885886317498645\n",
      "probability of observing that point if it came from cluster 0 =  5.217119108808841e-12\n",
      "probability of observing that point if it came from cluster 1 =  0.09757923561358593\n",
      "point =  3.021194473161513\n",
      "probability of observing that point if it came from cluster 0 =  0.010024584949949969\n",
      "probability of observing that point if it came from cluster 1 =  0.07450874221585102\n",
      "point =  5.383205606867739\n",
      "probability of observing that point if it came from cluster 0 =  0.005878942505718489\n",
      "probability of observing that point if it came from cluster 1 =  0.09814212352771348\n",
      "point =  5.950345526466371\n",
      "probability of observing that point if it came from cluster 0 =  1.4672043162754096e-05\n",
      "probability of observing that point if it came from cluster 1 =  0.0995623906270095\n",
      "point =  4.898095162105041\n",
      "probability of observing that point if it came from cluster 0 =  0.1632923645703668\n",
      "probability of observing that point if it came from cluster 1 =  0.09541306925476112\n",
      "point =  4.200980229575611\n",
      "probability of observing that point if it came from cluster 0 =  1.0565560280189448\n",
      "probability of observing that point if it came from cluster 1 =  0.08929991655312539\n",
      "point =  3.6463364571313273\n",
      "probability of observing that point if it came from cluster 0 =  0.4023052120366489\n",
      "probability of observing that point if it came from cluster 1 =  0.08290345716410989\n",
      "point =  4.085951984099646\n",
      "probability of observing that point if it came from cluster 0 =  1.0338592895979832\n",
      "probability of observing that point if it came from cluster 1 =  0.08807270855259258\n",
      "point =  4.710070611795857\n",
      "probability of observing that point if it came from cluster 0 =  0.3788403721384564\n",
      "probability of observing that point if it came from cluster 1 =  0.09400424064866016\n",
      "point =  4.62878893734279\n",
      "probability of observing that point if it came from cluster 0 =  0.5045357665914935\n",
      "probability of observing that point if it came from cluster 1 =  0.09333796415827919\n",
      "6.885886317498645\n",
      "Probability of coming from C_1 = 1.2475274931688877e-10\n",
      "Probability of coming from C_2 = 0.9999999998752472\n",
      "\n",
      "3.021194473161513\n",
      "Probability of coming from C_1 = 0.2389257600782824\n",
      "Probability of coming from C_2 = 0.7610742399217176\n",
      "\n",
      "5.383205606867739\n",
      "Probability of coming from C_1 = 0.12263163502226666\n",
      "Probability of coming from C_2 = 0.8773683649777334\n",
      "\n",
      "5.950345526466371\n",
      "Probability of coming from C_1 = 0.00034373421031279403\n",
      "Probability of coming from C_2 = 0.9996562657896872\n",
      "\n",
      "4.898095162105041\n",
      "Probability of coming from C_1 = 0.799732694592173\n",
      "Probability of coming from C_2 = 0.20026730540782703\n",
      "\n",
      "4.200980229575611\n",
      "Probability of coming from C_1 = 0.9650434469575504\n",
      "Probability of coming from C_2 = 0.03495655304244966\n",
      "\n",
      "3.6463364571313273\n",
      "Probability of coming from C_1 = 0.9188506365250152\n",
      "Probability of coming from C_2 = 0.08114936347498487\n",
      "\n",
      "4.085951984099646\n",
      "Probability of coming from C_1 = 0.9647767080059877\n",
      "Probability of coming from C_2 = 0.0352232919940123\n",
      "\n",
      "4.710070611795857\n",
      "Probability of coming from C_1 = 0.9038777152821942\n",
      "Probability of coming from C_2 = 0.09612228471780582\n",
      "\n",
      "4.62878893734279\n",
      "Probability of coming from C_1 = 0.9265395566260547\n",
      "Probability of coming from C_2 = 0.07346044337394539\n",
      "\n"
     ]
    }
   ],
   "source": [
    "prob_c0_x = [] # P(C_0 | X_i)\n",
    "prob_c1_x = [] # P(C_1 | X_i)\n",
    "prob_x = [] # P(X_i)\n",
    "\n",
    "k = 2\n",
    "\n",
    "for p in data:\n",
    "    print(\"point = \", p)\n",
    "    pdf_i = []\n",
    "\n",
    "    for j in range(k):\n",
    "        # P(X_i | C_j)\n",
    "        pdf_i.append(norm.pdf(p, mean[j], var[j]))\n",
    "        print(\"probability of observing that point if it came from cluster \" + str(j) + \" = \", pdf_i[j])\n",
    "        # P(C_j) already computed\n",
    "        prob_c[j]\n",
    "\n",
    "    # P(X_i) = P(C_0)P(X_i | C_0) + P(C_1)P(X_i | C_1)\n",
    "    prob_x = prob_c[0] * pdf_i[0] + prob_c[1] * pdf_i[1]\n",
    "\n",
    "    # P(C_j | X_i) = P(X_i | C_j)P(C_j) / P(X_i)\n",
    "    prob_c0_x.append(pdf_i[0] * prob_c[0] / prob_x )\n",
    "    prob_c1_x.append(pdf_i[1] * prob_c[1] / prob_x )\n",
    "\n",
    "probs = zip(data, prob_c0_x, prob_c1_x)\n",
    "for p in probs:\n",
    "    print(p[0])\n",
    "    print(\"Probability of coming from C_1 = \" + str(p[1]))\n",
    "    print(\"Probability of coming from C_2 = \" + str(p[2]))\n",
    "    print()"
   ]
  },
  {
   "cell_type": "markdown",
   "metadata": {},
   "source": []
  },
  {
   "cell_type": "markdown",
   "metadata": {},
   "source": [
    "h) Use `P(C_j | X_i)` to create a hard assignment - label each point as belonging to a specific cluster (0 or 1)"
   ]
  },
  {
   "cell_type": "code",
   "execution_count": 7,
   "metadata": {},
   "outputs": [
    {
     "name": "stdout",
     "output_type": "stream",
     "text": [
      "points in cluster 0 : [4.898095162105041, 4.200980229575611, 3.6463364571313273, 4.085951984099646, 4.710070611795857, 4.62878893734279]\n",
      "points in cluster 1 : [6.885886317498645, 3.021194473161513, 5.383205606867739, 5.950345526466371]\n"
     ]
    }
   ],
   "source": [
    "assignments = [[], []]\n",
    "for x in zip(data, prob_c0_x):\n",
    "    p = x[1]\n",
    "    d = x[0]\n",
    "    if random.random() <= p:\n",
    "        assignments[0].append(d)\n",
    "    else:\n",
    "        assignments[1].append(d)\n",
    "print(f\"points in cluster 0 : {assignments[0]}\\npoints in cluster 1 : {assignments[1]}\")"
   ]
  }
 ],
 "metadata": {
  "interpreter": {
   "hash": "76ca05dc3ea24b2e3b98cdb7774adfbb40773424bf5109b477fd793f623715af"
  },
  "kernelspec": {
   "display_name": "Python 3.9.9 64-bit ('env': venv)",
   "language": "python",
   "name": "python3"
  },
  "language_info": {
   "codemirror_mode": {
    "name": "ipython",
    "version": 3
   },
   "file_extension": ".py",
   "mimetype": "text/x-python",
   "name": "python",
   "nbconvert_exporter": "python",
   "pygments_lexer": "ipython3",
   "version": "3.9.6"
  },
  "orig_nbformat": 4
 },
 "nbformat": 4,
 "nbformat_minor": 2
}

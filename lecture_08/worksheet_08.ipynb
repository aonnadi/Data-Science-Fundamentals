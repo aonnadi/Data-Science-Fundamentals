{
 "cells": [
  {
   "attachments": {},
   "cell_type": "markdown",
   "metadata": {},
   "source": [
    "# Worksheet 08\n",
    "\n",
    "Name:  Anulika Nnadi\n",
    "UID: U14553525\n",
    "\n",
    "### Topics\n",
    "\n",
    "- Soft Clustering\n",
    "- Clustering Aggregation\n",
    "\n",
    "### Probability Review\n",
    "\n",
    "Read through [the following](https://medium.com/@gallettilance/overview-of-probability-3272b72c82c8)\n",
    "\n",
    "### Soft Clustering\n",
    "\n",
    "We generate 10 data points that come from a normal distribution with mean 5 and variance 1."
   ]
  },
  {
   "cell_type": "code",
   "execution_count": 2,
   "metadata": {},
   "outputs": [
    {
     "name": "stdout",
     "output_type": "stream",
     "text": [
      "[5.428208232879302, 4.225824553935645, 5.803500001720045, 4.350957020656254, 5.627135344352418, 4.530722540358561, 6.79036339691899, 4.140926216277345, 4.912049732049778, 4.013063003698743]\n"
     ]
    }
   ],
   "source": [
    "import random\n",
    "import numpy as np\n",
    "from sklearn.cluster import KMeans\n",
    "\n",
    "mean = 5\n",
    "stdev = 1\n",
    "\n",
    "c1 = np.random.normal(mean, stdev, 10).tolist()\n",
    "print(c1)"
   ]
  },
  {
   "cell_type": "markdown",
   "metadata": {},
   "source": [
    "a) Generate 10 more data points, this time coming from a normal distribution with mean 8 and variance 1."
   ]
  },
  {
   "cell_type": "code",
   "execution_count": 3,
   "metadata": {},
   "outputs": [
    {
     "name": "stdout",
     "output_type": "stream",
     "text": [
      "[8.733917573715408, 8.641611843101312, 8.152201361230931, 7.3312570508407156, 7.1900024661486714, 7.332578753458971, 6.551265565567644, 6.606344913583632, 7.937200640504548, 8.210191688061036]\n"
     ]
    }
   ],
   "source": [
    "c2 = np.random.normal( 8 , 1, 10 ).tolist()\n",
    "print(c2)"
   ]
  },
  {
   "cell_type": "markdown",
   "metadata": {},
   "source": [
    "b) Flip a fair coin 10 times. If the coin lands on H, then pick the last data point of `c1` and remove it from `c1`, if T then pick the last data point from `c2` and remove it from `c2`. Add these 10 points to a list called `data`."
   ]
  },
  {
   "cell_type": "code",
   "execution_count": 4,
   "metadata": {},
   "outputs": [
    {
     "name": "stdout",
     "output_type": "stream",
     "text": [
      "[4.013063003698743, 4.912049732049778, 8.210191688061036, 7.937200640504548, 6.606344913583632, 4.140926216277345, 6.551265565567644, 6.79036339691899, 7.332578753458971, 4.530722540358561]\n"
     ]
    }
   ],
   "source": [
    "data = []\n",
    "for i in range(10):\n",
    "    # flip coin\n",
    "    coin_output = random.choice([0, 1])\n",
    "    if coin_output == 0:\n",
    "        p1 = c1.pop()\n",
    "        data.append(p1)\n",
    "    else:\n",
    "        p2 = c2.pop()\n",
    "        data.append(p2)\n",
    "print(data)"
   ]
  },
  {
   "cell_type": "markdown",
   "metadata": {},
   "source": [
    "c) This `data` is a Gaussian Mixture Distribution with 2 mixture components. Over the next few questions we will walk through the GMM algorithm to see if we can uncover the parameters we used to generate this data. First, please list all these parameters of the GMM that created `data` and the values we know they have."
   ]
  },
  {
   "cell_type": "markdown",
   "metadata": {},
   "source": [
    "for each individual probability's mean variance and a probabilty of x being i-th species. Guassian Mixture Model when all are normal distribution with parameters -> start with random computer for all Xi by using compute and update from repeat 2 & 3 until convergence"
   ]
  },
  {
   "cell_type": "markdown",
   "metadata": {},
   "source": [
    "d) Let's assume there are two mixture components (note: we could plot the data and make the observation that there are two clusters). The EM algorithm asks us to start with a random `mean_j`, `variance_j`, `P(C_j)` for each component j. One method we could use to find sensible values for these is to apply K means with k=2 here.\n",
    "\n",
    "1. the centroids would be the estimates of the `mean_j`\n",
    "2. the intra-cluster variance could be the estimate of `variance_j`\n",
    "3. the proportion of points in each cluster could be the estimate of `P(C_j)`\n",
    "\n",
    "Go through this process and list the parameter estimates it gives. Are they close or far from the true values?"
   ]
  },
  {
   "cell_type": "code",
   "execution_count": 5,
   "metadata": {},
   "outputs": [
    {
     "name": "stderr",
     "output_type": "stream",
     "text": [
      "/Users/aninja/Library/Python/3.9/lib/python/site-packages/sklearn/cluster/_kmeans.py:1416: FutureWarning: The default value of `n_init` will change from 10 to 'auto' in 1.4. Set the value of `n_init` explicitly to suppress the warning\n",
      "  super()._check_params_vs_input(X, default_n_init=10)\n"
     ]
    },
    {
     "name": "stdout",
     "output_type": "stream",
     "text": [
      "[4.013063003698743, 4.912049732049778, 4.140926216277345, 4.530722540358561]\n",
      "[8.210191688061036, 7.937200640504548, 6.606344913583632, 6.551265565567644, 6.79036339691899, 7.332578753458971]\n",
      "P(C_1) = 0.4,  P(C_2) = 0.6\n",
      "mean_1 = 4.399190373096107,  mean_2 = 7.237990826349136\n",
      "var_1 = 0.12403003829654069,  var_2 = 8.477780382417366\n"
     ]
    }
   ],
   "source": [
    "kmeans = KMeans(2, init='k-means++').fit(X=np.array(data).reshape(-1, 1))\n",
    "\n",
    "c1 = [x[0] for x in filter(lambda x: x[1] == 0, zip(data, kmeans.labels_))]\n",
    "print(c1)\n",
    "c2 = [x[0] for x in filter(lambda x: x[1] != 0, zip(data, kmeans.labels_))]\n",
    "print(c2)\n",
    "\n",
    "prob_c = [ len(c1) / (len(c1) + len(c2)) , len(c2) / (len(c1) + len(c2)) ]\n",
    "mean = [ sum(c1)/len(c1) , sum(c2)/len(c2)  ]\n",
    "var = [ sum(map(lambda x : (x - mean[0])**2, c1)) / len(c1) , sum(map(lambda x : (x - mean[0])**2, c2)) / len(c2) ]\n",
    "\n",
    "print(\"P(C_1) = \" + str(prob_c[0]) + \",  P(C_2) = \" + str(prob_c[1]))\n",
    "print(\"mean_1 = \" + str(mean[0]) + \",  mean_2 = \" + str(mean[1]))\n",
    "print(\"var_1 = \" + str(var[0]) + \",  var_2 = \" + str(var[1]))"
   ]
  },
  {
   "cell_type": "markdown",
   "metadata": {},
   "source": []
  },
  {
   "cell_type": "markdown",
   "metadata": {},
   "source": [
    "e) For each data point, compute `P(C_j | X_i)`. Comment on which cluster you think each point belongs to based on the estimated probabilities. How does that compare to the truth?"
   ]
  },
  {
   "cell_type": "code",
   "execution_count": 7,
   "metadata": {},
   "outputs": [
    {
     "name": "stdout",
     "output_type": "stream",
     "text": [
      "point =  4.013063003698743\n",
      "probability of observing that point if it came from cluster 0 =  0.02528256594821512\n",
      "probability of observing that point if it came from cluster 1 =  0.04377298680823249\n",
      "point =  4.912049732049778\n",
      "probability of observing that point if it came from cluster 0 =  0.0006231907770771493\n",
      "probability of observing that point if it came from cluster 1 =  0.04531926003324048\n",
      "point =  8.210191688061036\n",
      "probability of observing that point if it came from cluster 0 =  3.130625243491937e-205\n",
      "probability of observing that point if it came from cluster 1 =  0.04674899441319917\n",
      "point =  7.937200640504548\n",
      "probability of observing that point if it came from cluster 0 =  6.52574357552598e-177\n",
      "probability of observing that point if it came from cluster 1 =  0.046897621849497396\n",
      "point =  6.606344913583632\n",
      "probability of observing that point if it came from cluster 0 =  5.528472772442548e-69\n",
      "probability of observing that point if it came from cluster 1 =  0.046926967114670974\n",
      "point =  4.140926216277345\n",
      "probability of observing that point if it came from cluster 0 =  0.3680143391255649\n",
      "probability of observing that point if it came from cluster 1 =  0.04401983681363658\n",
      "point =  6.551265565567644\n",
      "probability of observing that point if it came from cluster 0 =  1.354628105869831e-65\n",
      "probability of observing that point if it came from cluster 1 =  0.046903267299112074\n",
      "point =  6.79036339691899\n",
      "probability of observing that point if it came from cluster 0 =  6.284517115243247e-81\n",
      "probability of observing that point if it came from cluster 1 =  0.046991848650366534\n",
      "point =  7.332578753458971\n",
      "probability of observing that point if it came from cluster 0 =  1.1106782265426796e-121\n",
      "probability of observing that point if it came from cluster 1 =  0.04705446857345422\n",
      "point =  4.530722540358561\n",
      "probability of observing that point if it came from cluster 0 =  1.8330427226333266\n",
      "probability of observing that point if it came from cluster 1 =  0.044718176092734284\n",
      "4.013063003698743\n",
      "Probability of coming from C_1 = 0.27800744557228435\n",
      "Probability of coming from C_2 = 0.7219925544277157\n",
      "\n",
      "4.912049732049778\n",
      "Probability of coming from C_1 = 0.009084138113088284\n",
      "Probability of coming from C_2 = 0.9909158618869117\n",
      "\n",
      "8.210191688061036\n",
      "Probability of coming from C_1 = 4.46444575302356e-204\n",
      "Probability of coming from C_2 = 1.0\n",
      "\n",
      "7.937200640504548\n",
      "Probability of coming from C_1 = 9.276580656858925e-176\n",
      "Probability of coming from C_2 = 1.0\n",
      "\n",
      "6.606344913583632\n",
      "Probability of coming from C_1 = 7.854009627247866e-68\n",
      "Probability of coming from C_2 = 1.0\n",
      "\n",
      "4.140926216277345\n",
      "Probability of coming from C_1 = 0.847873162933036\n",
      "Probability of coming from C_2 = 0.15212683706696392\n",
      "\n",
      "6.551265565567644\n",
      "Probability of coming from C_1 = 1.9254210973279402e-64\n",
      "Probability of coming from C_2 = 1.0\n",
      "\n",
      "6.79036339691899\n",
      "Probability of coming from C_1 = 8.915754959974644e-80\n",
      "Probability of coming from C_2 = 1.0\n",
      "\n",
      "7.332578753458971\n",
      "Probability of coming from C_1 = 1.573606446904342e-120\n",
      "Probability of coming from C_2 = 1.0\n",
      "\n",
      "4.530722540358561\n",
      "Probability of coming from C_1 = 0.9646984060974803\n",
      "Probability of coming from C_2 = 0.035301593902519725\n",
      "\n"
     ]
    }
   ],
   "source": [
    "from scipy.stats import norm\n",
    "\n",
    "prob_c0_x = [] # P(C_0 | X_i)\n",
    "prob_c1_x = [] # P(C_1 | X_i)\n",
    "prob_x = [] # P(X_i)\n",
    "\n",
    "k = 2\n",
    "\n",
    "for p in data:\n",
    "    print(\"point = \", p)\n",
    "    pdf_i = []\n",
    "\n",
    "    for j in range(k):\n",
    "        # P(X_i | C_j)\n",
    "        pdf_i.append(norm.pdf(p, mean[j], var[j]))\n",
    "        print(\"probability of observing that point if it came from cluster \" + str(j) + \" = \", pdf_i[j])\n",
    "        # P(C_j) already computed\n",
    "        prob_c[j]\n",
    "\n",
    "    # P(X_i) = P(C_0)P(X_i | C_0) + P(C_1)P(X_i | C_1)\n",
    "    prob_x = prob_c[0] * pdf_i[0] + prob_c[1] * pdf_i[1]\n",
    "\n",
    "    # P(C_j | X_i) = P(X_i | C_j)P(C_j) / P(X_i)\n",
    "    prob_c0_x.append(pdf_i[0] * prob_c[0] / prob_x )\n",
    "    prob_c1_x.append(pdf_i[1] * prob_c[1] / prob_x )\n",
    "    \n",
    "probs = zip(data, prob_c0_x, prob_c1_x)\n",
    "for p in probs:\n",
    "    print(p[0])\n",
    "    print(\"Probability of coming from C_1 = \" + str(p[1]))\n",
    "    print(\"Probability of coming from C_2 = \" + str(p[2]))\n",
    "    print()\n"
   ]
  },
  {
   "cell_type": "markdown",
   "metadata": {},
   "source": [
    "f) Having computed `P(C_j | X_i)`, update the estimates of `mean_j`, `var_j`, and `P(C_j)`. How different are these values from the original ones you got from K means? briefly comment."
   ]
  },
  {
   "cell_type": "code",
   "execution_count": null,
   "metadata": {},
   "outputs": [],
   "source": [
    "prob_c = [sum(prob_c0_x)/ len(prob_c0_x), ... ]\n",
    "mean = [sum([x[0] * x[1] for x in zip(prob_c0_x, data)]) / sum(prob_c0_x), ... ]\n",
    "var = [ ... , ... ]\n",
    "\n",
    "print(\"P(C_1) = \" + str(prob_c[0]) + \",  P(C_2) = \" + str(prob_c[1]))\n",
    "print(\"mean_1 = \" + str(mean[0]) + \",  mean_2 = \" + str(mean[1]))\n",
    "print(\"var_1 = \" + str(var[0]) + \",  var_2 = \" + str(var[1]))"
   ]
  },
  {
   "cell_type": "markdown",
   "metadata": {},
   "source": []
  },
  {
   "cell_type": "markdown",
   "metadata": {},
   "source": [
    "g) Update `P(C_j | X_i)`. Comment on any differences or lack thereof you observe."
   ]
  },
  {
   "cell_type": "code",
   "execution_count": 8,
   "metadata": {},
   "outputs": [
    {
     "name": "stdout",
     "output_type": "stream",
     "text": [
      "point =  4.013063003698743\n",
      "probability of observing that point if it came from cluster 0 =  0.02528256594821512\n",
      "probability of observing that point if it came from cluster 1 =  0.04377298680823249\n",
      "point =  4.912049732049778\n",
      "probability of observing that point if it came from cluster 0 =  0.0006231907770771493\n",
      "probability of observing that point if it came from cluster 1 =  0.04531926003324048\n",
      "point =  8.210191688061036\n",
      "probability of observing that point if it came from cluster 0 =  3.130625243491937e-205\n",
      "probability of observing that point if it came from cluster 1 =  0.04674899441319917\n",
      "point =  7.937200640504548\n",
      "probability of observing that point if it came from cluster 0 =  6.52574357552598e-177\n",
      "probability of observing that point if it came from cluster 1 =  0.046897621849497396\n",
      "point =  6.606344913583632\n",
      "probability of observing that point if it came from cluster 0 =  5.528472772442548e-69\n",
      "probability of observing that point if it came from cluster 1 =  0.046926967114670974\n",
      "point =  4.140926216277345\n",
      "probability of observing that point if it came from cluster 0 =  0.3680143391255649\n",
      "probability of observing that point if it came from cluster 1 =  0.04401983681363658\n",
      "point =  6.551265565567644\n",
      "probability of observing that point if it came from cluster 0 =  1.354628105869831e-65\n",
      "probability of observing that point if it came from cluster 1 =  0.046903267299112074\n",
      "point =  6.79036339691899\n",
      "probability of observing that point if it came from cluster 0 =  6.284517115243247e-81\n",
      "probability of observing that point if it came from cluster 1 =  0.046991848650366534\n",
      "point =  7.332578753458971\n",
      "probability of observing that point if it came from cluster 0 =  1.1106782265426796e-121\n",
      "probability of observing that point if it came from cluster 1 =  0.04705446857345422\n",
      "point =  4.530722540358561\n",
      "probability of observing that point if it came from cluster 0 =  1.8330427226333266\n",
      "probability of observing that point if it came from cluster 1 =  0.044718176092734284\n",
      "4.013063003698743\n",
      "Probability of coming from C_1 = 0.27800744557228435\n",
      "Probability of coming from C_2 = 0.7219925544277157\n",
      "\n",
      "4.912049732049778\n",
      "Probability of coming from C_1 = 0.009084138113088284\n",
      "Probability of coming from C_2 = 0.9909158618869117\n",
      "\n",
      "8.210191688061036\n",
      "Probability of coming from C_1 = 4.46444575302356e-204\n",
      "Probability of coming from C_2 = 1.0\n",
      "\n",
      "7.937200640504548\n",
      "Probability of coming from C_1 = 9.276580656858925e-176\n",
      "Probability of coming from C_2 = 1.0\n",
      "\n",
      "6.606344913583632\n",
      "Probability of coming from C_1 = 7.854009627247866e-68\n",
      "Probability of coming from C_2 = 1.0\n",
      "\n",
      "4.140926216277345\n",
      "Probability of coming from C_1 = 0.847873162933036\n",
      "Probability of coming from C_2 = 0.15212683706696392\n",
      "\n",
      "6.551265565567644\n",
      "Probability of coming from C_1 = 1.9254210973279402e-64\n",
      "Probability of coming from C_2 = 1.0\n",
      "\n",
      "6.79036339691899\n",
      "Probability of coming from C_1 = 8.915754959974644e-80\n",
      "Probability of coming from C_2 = 1.0\n",
      "\n",
      "7.332578753458971\n",
      "Probability of coming from C_1 = 1.573606446904342e-120\n",
      "Probability of coming from C_2 = 1.0\n",
      "\n",
      "4.530722540358561\n",
      "Probability of coming from C_1 = 0.9646984060974803\n",
      "Probability of coming from C_2 = 0.035301593902519725\n",
      "\n"
     ]
    }
   ],
   "source": [
    "prob_c0_x = [] # P(C_0 | X_i)\n",
    "prob_c1_x = [] # P(C_1 | X_i)\n",
    "prob_x = [] # P(X_i)\n",
    "\n",
    "k = 2\n",
    "\n",
    "for p in data:\n",
    "    print(\"point = \", p)\n",
    "    pdf_i = []\n",
    "\n",
    "    for j in range(k):\n",
    "        # P(X_i | C_j)\n",
    "        pdf_i.append(norm.pdf(p, mean[j], var[j]))\n",
    "        print(\"probability of observing that point if it came from cluster \" + str(j) + \" = \", pdf_i[j])\n",
    "        # P(C_j) already computed\n",
    "        prob_c[j]\n",
    "\n",
    "    # P(X_i) = P(C_0)P(X_i | C_0) + P(C_1)P(X_i | C_1)\n",
    "    prob_x = prob_c[0] * pdf_i[0] + prob_c[1] * pdf_i[1]\n",
    "\n",
    "    # P(C_j | X_i) = P(X_i | C_j)P(C_j) / P(X_i)\n",
    "    prob_c0_x.append(pdf_i[0] * prob_c[0] / prob_x )\n",
    "    prob_c1_x.append(pdf_i[1] * prob_c[1] / prob_x )\n",
    "\n",
    "probs = zip(data, prob_c0_x, prob_c1_x)\n",
    "for p in probs:\n",
    "    print(p[0])\n",
    "    print(\"Probability of coming from C_1 = \" + str(p[1]))\n",
    "    print(\"Probability of coming from C_2 = \" + str(p[2]))\n",
    "    print()"
   ]
  },
  {
   "cell_type": "markdown",
   "metadata": {},
   "source": []
  },
  {
   "cell_type": "markdown",
   "metadata": {},
   "source": [
    "h) Use `P(C_j | X_i)` to create a hard assignment - label each point as belonging to a specific cluster (0 or 1)"
   ]
  },
  {
   "cell_type": "code",
   "execution_count": 9,
   "metadata": {},
   "outputs": [
    {
     "name": "stdout",
     "output_type": "stream",
     "text": [
      "points in cluster 0 : [4.013063003698743, 4.140926216277345, 4.530722540358561]\n",
      "points in cluster 1 : [4.912049732049778, 8.210191688061036, 7.937200640504548, 6.606344913583632, 6.551265565567644, 6.79036339691899, 7.332578753458971]\n"
     ]
    }
   ],
   "source": [
    "assignments = [[], []]\n",
    "for x in zip(data, prob_c0_x):\n",
    "    p = x[1]\n",
    "    d = x[0]\n",
    "    if random.random() <= p:\n",
    "        assignments[0].append(d)\n",
    "    else:\n",
    "        assignments[1].append(d)\n",
    "print(f\"points in cluster 0 : {assignments[0]}\\npoints in cluster 1 : {assignments[1]}\")"
   ]
  }
 ],
 "metadata": {
  "interpreter": {
   "hash": "76ca05dc3ea24b2e3b98cdb7774adfbb40773424bf5109b477fd793f623715af"
  },
  "kernelspec": {
   "display_name": "Python 3.9.9 64-bit ('env': venv)",
   "language": "python",
   "name": "python3"
  },
  "language_info": {
   "codemirror_mode": {
    "name": "ipython",
    "version": 3
   },
   "file_extension": ".py",
   "mimetype": "text/x-python",
   "name": "python",
   "nbconvert_exporter": "python",
   "pygments_lexer": "ipython3",
   "version": "3.9.6"
  },
  "orig_nbformat": 4
 },
 "nbformat": 4,
 "nbformat_minor": 2
}
